{
  "nbformat": 4,
  "nbformat_minor": 0,
  "metadata": {
    "colab": {
      "provenance": [],
      "authorship_tag": "ABX9TyPGeLF2ymOj93PldzhDv42q",
      "include_colab_link": true
    },
    "kernelspec": {
      "name": "python3",
      "display_name": "Python 3"
    },
    "language_info": {
      "name": "python"
    }
  },
  "cells": [
    {
      "cell_type": "markdown",
      "metadata": {
        "id": "view-in-github",
        "colab_type": "text"
      },
      "source": [
        "<a href=\"https://colab.research.google.com/github/Dinesh7318/Ex-01-Data-Cleaning/blob/main/Untitled0.ipynb\" target=\"_parent\"><img src=\"https://colab.research.google.com/assets/colab-badge.svg\" alt=\"Open In Colab\"/></a>"
      ]
    },
    {
      "cell_type": "code",
      "execution_count": 2,
      "metadata": {
        "id": "Dhisl0DK1Se5",
        "colab": {
          "base_uri": "https://localhost:8080/",
          "height": 1000
        },
        "outputId": "5f3e1faf-32a3-49e2-92c4-4f3a27b6f32c"
      },
      "outputs": [
        {
          "output_type": "stream",
          "name": "stdout",
          "text": [
            "<class 'pandas.core.frame.DataFrame'>\n",
            "RangeIndex: 100 entries, 0 to 99\n",
            "Data columns (total 9 columns):\n",
            " #   Column                    Non-Null Count  Dtype  \n",
            "---  ------                    --------------  -----  \n",
            " 0   show_name                 96 non-null     object \n",
            " 1   country                   100 non-null    object \n",
            " 2   num_episodes              100 non-null    int64  \n",
            " 3   aired_on                  99 non-null     object \n",
            " 4   original_network          99 non-null     object \n",
            " 5   rating                    96 non-null     float64\n",
            " 6   current_overall_rank      97 non-null     float64\n",
            " 7   lifetime_popularity_rank  100 non-null    int64  \n",
            " 8   watchers                  97 non-null     float64\n",
            "dtypes: float64(3), int64(2), object(4)\n",
            "memory usage: 7.2+ KB\n",
            "<class 'pandas.core.frame.DataFrame'>\n",
            "RangeIndex: 100 entries, 0 to 99\n",
            "Data columns (total 9 columns):\n",
            " #   Column                    Non-Null Count  Dtype  \n",
            "---  ------                    --------------  -----  \n",
            " 0   show_name                 100 non-null    object \n",
            " 1   country                   100 non-null    object \n",
            " 2   num_episodes              100 non-null    int64  \n",
            " 3   aired_on                  100 non-null    object \n",
            " 4   original_network          100 non-null    object \n",
            " 5   rating                    100 non-null    float64\n",
            " 6   current_overall_rank      97 non-null     float64\n",
            " 7   lifetime_popularity_rank  100 non-null    int64  \n",
            " 8   watchers                  100 non-null    float64\n",
            "dtypes: float64(3), int64(2), object(4)\n",
            "memory usage: 7.2+ KB\n"
          ]
        },
        {
          "output_type": "display_data",
          "data": {
            "text/plain": [
              "<Figure size 640x480 with 1 Axes>"
            ],
            "image/png": "[encoded data removed]"
          },
          "metadata": {}
        }
      ],
      "source": [
        "import pandas as pd\n",
        "import numpy as np\n",
        "import seaborn as sns\n",
        "df = pd.read_csv(\"/content/Data_set.csv\")\n",
        "df\n",
        "df.head()\n",
        "df.describe()\n",
        "df.info()\n",
        "df.tail()\n",
        "df.shape\n",
        "df.columns\n",
        "df.isnull().sum()\n",
        "df.duplicated()\n",
        "df['show_name']= df['show_name'].fillna(df['show_name'].mode()[0])\n",
        "df['aired_on']= df['aired_on'].fillna(df['aired_on'].mode()[0])\n",
        "df['original_network']= df['original_network'].fillna(df['original_network'].mode()[0])\n",
        "sns.boxplot(x=\"rating\",data=df)\n",
        "df['rating']=df['rating'].fillna(df['rating'].mean())\n",
        "df['current_overall_rank'].fillna(df['current_overall_rank'].mean())\n",
        "df['watchers']=df['watchers'].fillna(df['watchers'].mean())\n",
        "df.isnull().sum()\n",
        "df.info()"
      ]
    }
  ]
}